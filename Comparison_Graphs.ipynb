# To Plot Multi-Line Graph
import matplotlib.pyplot as plt
plt.plot([5, 15], label='Rice',marker='o')
plt.plot([3, 6], label='Oil',marker='o')
plt.plot([8.0010, 14.2], label='Wheat',marker='o')
plt.plot([1.95412, 6.98547, 5.41411, 5.99, 7.9999], label='Coffee',marker='o')
plt.legend()
plt.show()

# To Plot Multi-Bar Graph
import pandas as pd
df=pd.read_csv('/content/sample_data/Topic_Survey_Assignment.csv')
df.rename(columns={'Unnamed: 0': 'Subject'}, inplace=True)
df.plot.bar(x='Subject', y=['Very interested', 'Somewhat interested','Not interested'])

# To Plot Pie Graph
import numpy as np
labels = ['India', 'Canada', 'Japan', 'Australia', 'Russia']
size = np.array([31, 19, 15, 14, 21])
plt.pie(size, labels=labels, autopct='%.2f%%')
plt.axis('equal')
plt.show()
