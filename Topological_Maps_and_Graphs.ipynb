# To Plot Map Using BaseMap To plot California cities
!pip install -q https://github.com/matplotlib/basemap/archive/master.zip
import pandas as pd
import numpy as np
import matplotlib.pyplot as plt
from mpl_toolkits.basemap import Basemap
cities = pd.read_csv('/content/sample_data/california_cities.csv')
lat = cities['latd'].values
lon = cities['longd'].values
population = cities['population_total'].values
area = cities['area_total_km2'].values
fig = plt.figure(figsize=(8, 8))
m = Basemap(projection='lcc', resolution='h',lat_0=37.5, lon_0=-119, width=1E6, height=1.2E6)
m.shadedrelief()
m.drawcoastlines(color='gray')
m.drawcountries(color='gray')
m.drawstates(color='gray')
m.scatter(lon, lat, latlon=True, c=np.log10(population), s=area, cmap='Reds', alpha=0.5)
plt.colorbar(label=r'$\log_{10}({\rm population})$')
plt.clim(3, 7)
for a in [100, 300, 500]:
  plt.scatter([], [], c='k', alpha=0.5, s=a, label=str(a) + ' km$^2$')
plt.legend(scatterpoints=1, frameon=False, labelspacing=1, loc='lower left');

# To Plot Topological Graph
import networkx as nx
df = pd.read_csv('/content/sample_data/edge_list.txt', delim_whitespace = True,
header = None, names =['n1', 'n2', 'weight'])
G = nx.read_weighted_edgelist('/content/sample_data/edge_list.txt', delimiter =" ")
nx.draw_networkx(G, label = True, font_size=9)
