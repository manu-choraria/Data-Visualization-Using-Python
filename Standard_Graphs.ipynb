# To Plot Line Graph
import matplotlib.pyplot as plt
plt.plot([5,15])
plt.title('Graph')
plt.xlabel('x-axis')
plt.ylabel('y-axis')
plt.show()

# To Plot Pie chart
import numpy as np
labels = ['India', 'Canada', 'Japan', 'Australia', 'Russia']
size = np.array([31, 19, 15, 14, 21])
plt.pie(size, labels=labels, autopct='%.2f%%')
plt.axis('equal')
plt.show()

# To plot box-plot
import pandas as pd
df=pd.read_csv('/content/sample_data/tips.csv')
df.boxplot(by='day',column=['total_bill'])

# To plot marker diagram
x1 = [214, 5, 91, 81, 122, 16, 218, 22]
x2 = [12, 125, 149, 198, 22, 26, 28, 32]
plt.plot(x1, 'bo', markersize=20)
plt.plot(x2, 'ro', markersize=10)
plt.show()
